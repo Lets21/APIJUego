{
  "cells": [
    {
      "cell_type": "markdown",
      "metadata": {
        "id": "view-in-github",
        "colab_type": "text"
      },
      "source": [
        "<a href=\"https://colab.research.google.com/github/Lets21/APIJUego/blob/master/Copia_de_MS2_probability.ipynb\" target=\"_parent\"><img src=\"https://colab.research.google.com/assets/colab-badge.svg\" alt=\"Open In Colab\"/></a>"
      ]
    },
    {
      "cell_type": "markdown",
      "metadata": {
        "id": "t5JPbz_wA1dq"
      },
      "source": [
        "# Probabilities"
      ]
    },
    {
      "cell_type": "markdown",
      "metadata": {
        "id": "pWs4iWGRA6sB"
      },
      "source": [
        "## Tossing a coin"
      ]
    },
    {
      "cell_type": "code",
      "execution_count": null,
      "metadata": {
        "id": "ImIVU3ibwQqU"
      },
      "outputs": [],
      "source": [
        "import numpy as np\n",
        "import matplotlib.pyplot as plt\n",
        "\n",
        "def bernoulli(prob=0.5):\n",
        "    # prob: probability of success\n",
        "    if np.random.rand() < prob:\n",
        "        return 1\n",
        "    else:\n",
        "        return 0\n",
        "\n",
        "n = 100\n",
        "coin = np.array([0, 0])\n",
        "for i in range(n):\n",
        "    coin[bernoulli()] += 1\n",
        "coin = coin / n\n",
        "p = plt.bar(range(2), coin)"
      ]
    },
    {
      "cell_type": "markdown",
      "metadata": {
        "id": "jnvgAvtZw90Z"
      },
      "source": [
        "Let's try with $n\\in [1000, 10000, 100000, 1000000]$"
      ]
    },
    {
      "cell_type": "markdown",
      "metadata": {
        "id": "R-5eudB7wQqW"
      },
      "source": [
        "## Tossing two coins\n",
        "\n"
      ]
    },
    {
      "cell_type": "code",
      "execution_count": null,
      "metadata": {
        "id": "XGbMy_abwQqW"
      },
      "outputs": [],
      "source": [
        "n = 100\n",
        "two_coins = np.array([0, 0, 0])\n",
        "for i in range(n):\n",
        "    two_coins[bernoulli() + bernoulli()] += 1\n",
        "two_coins = two_coins / n\n",
        "p = plt.bar(range(3), two_coins)"
      ]
    },
    {
      "cell_type": "markdown",
      "metadata": {
        "id": "izatdQ5WxcOf"
      },
      "source": [
        "Let's try with $n\\in [1000, 10000, 100000, 1000000]$"
      ]
    },
    {
      "cell_type": "markdown",
      "metadata": {
        "id": "XtsElYnowQqX"
      },
      "source": [
        "## Rolling a dice"
      ]
    },
    {
      "cell_type": "code",
      "execution_count": null,
      "metadata": {
        "id": "9EdxsjOxwQqX"
      },
      "outputs": [],
      "source": [
        "n = 100\n",
        "dice = np.zeros(6)\n",
        "for i in range(n):\n",
        "    face = int(np.floor(np.random.rand()*6))\n",
        "    dice[face] += 1\n",
        "dice = dice / n\n",
        "p = plt.bar(range(1,7), dice)"
      ]
    },
    {
      "cell_type": "markdown",
      "metadata": {
        "id": "Mok_lo8w1JdJ"
      },
      "source": [
        "Let's try with $n\\in [1000, 10000, 100000, 1000000]$"
      ]
    },
    {
      "cell_type": "markdown",
      "metadata": {
        "id": "CiaErk4vwQqX"
      },
      "source": [
        "## Rolling two dices"
      ]
    },
    {
      "cell_type": "code",
      "execution_count": null,
      "metadata": {
        "id": "SSjl88ChwQqY"
      },
      "outputs": [],
      "source": [
        "n = 100\n",
        "dice = np.zeros(11)\n",
        "for i in range(n):\n",
        "    face1 = int(np.floor(np.random.rand()*6))\n",
        "    face2 = int(np.floor(np.random.rand()*6))\n",
        "    dice[face1+face2] += 1\n",
        "dice = dice / n\n",
        "p = plt.bar(range(2,13), dice)"
      ]
    },
    {
      "cell_type": "markdown",
      "metadata": {
        "id": "RJNlGYB31Y-y"
      },
      "source": [
        "Let's try with $n\\in [1000, 10000, 100000, 1000000]$"
      ]
    },
    {
      "cell_type": "markdown",
      "metadata": {
        "id": "zddzoegzE2mr"
      },
      "source": [
        "## Probability of having three kids of the same sex"
      ]
    },
    {
      "cell_type": "markdown",
      "metadata": {
        "id": "w1Bv6o7ZwQqY"
      },
      "source": [
        "**Assignment 1**: How likely is it that a family with three children has all boys or all girls?\n",
        "Let's assume that a child is equally likely to be a boy or a girl. Instead of observing the result of actual births, a toss of a fair coin could be used to simulate a birth. If the toss results in heads (H), then we could say a boy was born; if the toss results in tails (T), then we could say a girl was born. If the coin is fair (*i.e.*, heads and tails are equally likely), then getting a boy or a girl is equally likely."
      ]
    },
    {
      "cell_type": "code",
      "execution_count": null,
      "metadata": {
        "id": "uWurfHvFwQqZ"
      },
      "outputs": [],
      "source": [
        "import numpy as np\n",
        "import matplotlib.pyplot as plt\n",
        "\n",
        "def bernoulli(prob=0.5):\n",
        "    # prob: Probabilidad de éxito (en este contexto, probabilidad de tener un niño)\n",
        "    if np.random.rand() < prob:\n",
        "        return 1  # Niño\n",
        "    else:\n",
        "        return 0  # Niña\n",
        "\n",
        "def simular_familias(rep=100000, hijos=3):\n",
        "    # rep: Número de familias a simular\n",
        "    # hijos: Número de hijos por familia\n",
        "    resultados = np.zeros(rep)  # Almacenar resultados de las simulaciones\n",
        "\n",
        "    for i in range(rep):\n",
        "        familia = sum([bernoulli() for _ in range(hijos)])  # Suma total de niños en la familia\n",
        "        if familia == 0 or familia == hijos:\n",
        "            resultados[i] = 1  # Familia con todos niñas o todos niños\n",
        "\n",
        "    probabilidad = np.mean(resultados)  # Calcular probabilidad\n",
        "    return probabilidad\n",
        "\n",
        "# Simular 100,000 familias con 3 hijos cada una\n",
        "probabilidad = simular_familias(rep=100000, hijos=3)\n",
        "print(f\"La probabilidad de que una familia con tres hijos tenga todos niños o todas niñas es de {probabilidad:.2f}\")\n"
      ]
    },
    {
      "cell_type": "markdown",
      "metadata": {
        "id": "g56H65bNE_Ph"
      },
      "source": [
        "## A simple game"
      ]
    },
    {
      "cell_type": "markdown",
      "metadata": {
        "id": "eWXfTMjSPNx8"
      },
      "source": [
        "![](data:image/png;base64,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)\n",
        "\n",
        "**Assigment 2**: Considering the board shown above, implement the following system: There are 2 mines distributed randomly in the black squares, and the player clicks randomly on the squares (never on the white ones): If there is no mine in the square, it becomes white, otherwise the player loses the game.\n",
        "If the player manages to click all the squares that do not have a mine, he/she win the game.  Do not take into account the distribution (or proximity) of the black boxes."
      ]
    },
    {
      "cell_type": "code",
      "execution_count": null,
      "metadata": {
        "colab": {
          "base_uri": "https://localhost:8080/"
        },
        "id": "gh7JOE_mQYUW",
        "outputId": "aec15d9d-c967-4439-bde6-7878b227d94b"
      },
      "outputs": [
        {
          "output_type": "stream",
          "name": "stdout",
          "text": [
            "You won\n"
          ]
        }
      ],
      "source": [
        "# Let's correct the game simulation according to the coin toss logic provided\n",
        "\n",
        "import numpy as np\n",
        "from scipy.stats import bernoulli\n",
        "\n",
        "# First, we will use the coin toss logic to determine the mine placement\n",
        "def place_mines_with_coins(hidden, mines):\n",
        "    # This function simulates the placement of mines based on coin tosses\n",
        "    mine_positions = []\n",
        "    while len(mine_positions) < mines:\n",
        "        # Each black square has a unique id from 0 to (hidden-1)\n",
        "        # We simulate the coin tosses to assign mines to these ids\n",
        "        position = bernoulli.rvs(0.5) + bernoulli.rvs(0.5)\n",
        "        # We ensure unique positions for each mine\n",
        "        if position not in mine_positions:\n",
        "            mine_positions.append(position)\n",
        "    return mine_positions\n",
        "\n",
        "# Now the main game function\n",
        "def play(size=64, hidden=16, mines=2):\n",
        "    # Initialize the board with no mines\n",
        "    board = ['safe'] * size\n",
        "\n",
        "    # Get mine positions from coin toss logic\n",
        "    mine_positions = place_mines_with_coins(hidden, mines)\n",
        "    # Convert positions to indices in the board\n",
        "    mines_indices = [random.choice([i for i in range(size) if board[i] == 'safe' and i not in mine_positions])\n",
        "                     for _ in mine_positions]\n",
        "\n",
        "    for idx in mines_indices:\n",
        "        board[idx] = 'mine'  # Place a mine\n",
        "\n",
        "    # Initialize game variables\n",
        "    win = False\n",
        "    clicks = 0\n",
        "    black_squares = set(range(size)) - set(mines_indices)\n",
        "\n",
        "    # Simulate the game\n",
        "    while black_squares:\n",
        "        click = random.choice(list(black_squares))\n",
        "        clicks += 1\n",
        "\n",
        "        # Check if there's a mine\n",
        "        if board[click] == 'mine':\n",
        "            win = False\n",
        "            break\n",
        "\n",
        "        # If no mine, remove the black square\n",
        "        black_squares.remove(click)\n",
        "\n",
        "        # If all safe squares have been revealed, player wins\n",
        "        if len(black_squares) == len(mine_positions):\n",
        "            win = True\n",
        "            break\n",
        "\n",
        "    return win, clicks\n",
        "\n",
        "# Play the game\n",
        "win, _ = play(8*8, 16, 2)\n",
        "print(\"You won\" if win else \"You lost\")\n"
      ]
    },
    {
      "cell_type": "markdown",
      "metadata": {
        "id": "qLBww-mYQSYG"
      },
      "source": [
        "**Assignment 3**: What is the probability of winning the game?\n"
      ]
    },
    {
      "cell_type": "code",
      "execution_count": null,
      "metadata": {
        "id": "ucqk23t3QNkQ"
      },
      "outputs": [],
      "source": [
        "def play(size=64, hidden=16, mines=2):\n",
        "    # Initialize the game with all squares safe\n",
        "    board = ['safe'] * size\n",
        "    # Determine black square positions\n",
        "    black_squares_indices = random.sample(range(size), hidden)\n",
        "    # Place mines randomly among black squares\n",
        "    mines_indices = set(random.sample(black_squares_indices, mines))\n",
        "    for idx in mines_indices:\n",
        "        board[idx] = 'mine'\n",
        "\n",
        "    # Start clicking on black squares until mines are clicked or all safe squares are revealed\n",
        "    black_squares = set(black_squares_indices)\n",
        "    while black_squares:\n",
        "        # Randomly choose a black square to click on\n",
        "        click = black_squares.pop()\n",
        "\n",
        "        # Check if clicked square is a mine\n",
        "        if board[click] == 'mine':\n",
        "            return False  # Game lost\n",
        "\n",
        "        # If all non-mine black squares are revealed, win the game\n",
        "        if len(black_squares) == mines:\n",
        "            return True  # Game won\n",
        "\n",
        "# Run the simulation for a smaller number of repetitions to estimate winning probability\n",
        "rep = 100000  # Reduced the number for efficiency\n",
        "wins = sum(play() for _ in range(rep))\n",
        "winning_probability = wins / rep\n",
        "winning_probability\n"
      ]
    },
    {
      "cell_type": "markdown",
      "metadata": {
        "id": "TSiY3osiQtMt"
      },
      "source": [
        "**Assigment 4**: How many clicks on average will a player make until they lose (include the click in which they find the mine)?"
      ]
    },
    {
      "cell_type": "code",
      "execution_count": null,
      "metadata": {
        "id": "lJ-ZWCJ1Q5pM"
      },
      "outputs": [],
      "source": [
        "rep = 100000\n",
        "## WRITE YOUR CODE HERE\n",
        "\n",
        "## --------------------"
      ]
    }
  ],
  "metadata": {
    "colab": {
      "provenance": [],
      "include_colab_link": true
    },
    "kernelspec": {
      "display_name": "Python 3 (ipykernel)",
      "language": "python",
      "name": "python3"
    },
    "language_info": {
      "codemirror_mode": {
        "name": "ipython",
        "version": 3
      },
      "file_extension": ".py",
      "mimetype": "text/x-python",
      "name": "python",
      "nbconvert_exporter": "python",
      "pygments_lexer": "ipython3",
      "version": "3.8.18"
    }
  },
  "nbformat": 4,
  "nbformat_minor": 0
}